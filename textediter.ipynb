def translate_word(word, language_dict):
    return language_dict.get(word.lower(), "Translation not available")

def translate_to_spanish(word):
    spanish_dict = {
        "hello": "hola",
        "goodbye": "adiós",
        "thank you": "gracias",
        "yes": "sí",
        "no": "no",
        # Add more words and translations as needed
    }
    return translate_word(word, spanish_dict)

def translate_to_french(word):
    french_dict = {
        "hello": "bonjour",
        "goodbye": "au revoir",
        "thank you": "merci",
        "yes": "oui",
        "no": "non",
        # Add more words and translations as needed
    }
    return translate_word(word, french_dict)

def translate_to_german(word):
    german_dict = {
        "hello": "hallo",
        "goodbye": "auf Wiedersehen",
        "thank you": "danke",
        "yes": "ja",
        "no": "nein",
        # Add more words and translations as needed
    }
    return translate_word(word, german_dict)

def translate_to_italian(word):
    italian_dict = {
        "hello": "ciao",
        "goodbye": "addio",
        "thank you": "grazie",
        "yes": "sì",
        "no": "no",
        # Add more words and translations as needed
    }
    return translate_word(word, italian_dict)

def translate_to_malayalam(word):
    malayalam_dict = {
        "hello": "ഹലോ",
        "goodbye": "വിട",
        "thank you": "നന്ദി",
        "yes": "അതെ",
        "no": "ഇല്ല",
        # Add more words and translations as needed
    }
    return translate_word(word, malayalam_dict)

def main():
    print("Welcome to the Simple Translator!")
    print("Supported languages: Spanish, French, German, Italian, Malayalam")

    while True:
        user_input = input("Enter a word or phrase in English (type 'exit' to quit): ").lower()

        if user_input == "exit":
            print("Exiting the translator. പോയിയിരി!")
            break

        translation_spanish = translate_to_spanish(user_input)
        translation_french = translate_to_french(user_input)
        translation_german = translate_to_german(user_input)
        translation_italian = translate_to_italian(user_input)
        translation_malayalam = translate_to_malayalam(user_input)

        print(f"\nTranslations:")
        print(f"Spanish: {translation_spanish}")
        print(f"French: {translation_french}")
        print(f"German: {translation_german}")
        print(f"Italian: {translation_italian}")
        print(f"Malayalam: {translation_malayalam}\n")

if __name__ == "__main__":
    main()

